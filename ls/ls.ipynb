{
 "cells": [
  {
   "cell_type": "markdown",
   "metadata": {},
   "source": [
    "# Simple Least Squares"
   ]
  },
  {
   "cell_type": "markdown",
   "metadata": {},
   "source": [
    "We begin by generating some synthetic data for a simple least squares regression model. "
   ]
  },
  {
   "cell_type": "code",
   "execution_count": 20,
   "metadata": {
    "collapsed": true
   },
   "outputs": [],
   "source": [
    "set.seed(123)\n",
    "\n",
    "n <- 100\n",
    "p <- 10\n",
    "\n",
    "X <- matrix(rnorm(p * n), nrow=n)\n",
    "beta <- 1:p # beta is just 1 through 10.\n",
    "Y <- X %*% beta + rnorm(n)"
   ]
  },
  {
   "cell_type": "markdown",
   "metadata": {},
   "source": [
    "To estimate the $\\beta$ given the $Y$ and $X$, one can use the R's `lm` function to produce the least squares fit."
   ]
  },
  {
   "cell_type": "code",
   "execution_count": 21,
   "metadata": {},
   "outputs": [
    {
     "name": "stdout",
     "output_type": "stream",
     "text": [
      "       X1        X2        X3        X4        X5        X6        X7        X8 \n",
      " 1.080311  1.988295  2.875176  4.133395  5.091466  5.949045  7.076470  8.127228 \n",
      "       X9       X10 \n",
      " 8.960957 10.134885 \n"
     ]
    }
   ],
   "source": [
    "ls.model <- lm(Y ~ 0 + X) ## There is no intercept in our model above\n",
    "print(coef(ls.model))"
   ]
  },
  {
   "cell_type": "markdown",
   "metadata": {},
   "source": [
    "The estimates are reasonably close to the original beta values 1 through 10. "
   ]
  },
  {
   "cell_type": "markdown",
   "metadata": {
    "collapsed": true
   },
   "source": [
    "## The `cvxr` formulation"
   ]
  },
  {
   "cell_type": "markdown",
   "metadata": {},
   "source": [
    "The `cvxr` formulation states the above as an optimization problem. \n",
    "\n",
    "Given $Y$ and $X$, we seek that $\\beta$ that minimizes the squared error $\\sum_{i=1}^n(Y - X\\beta)^2$.\n",
    "\n",
    "We state the problem pretty much that way using `cvxr` after loading the package"
   ]
  },
  {
   "cell_type": "code",
   "execution_count": 22,
   "metadata": {
    "collapsed": true
   },
   "outputs": [],
   "source": [
    "suppressWarnings(library(cvxr, warn.conflicts=FALSE))"
   ]
  },
  {
   "cell_type": "markdown",
   "metadata": {},
   "source": [
    "### Define a variable of size $p$"
   ]
  },
  {
   "cell_type": "code",
   "execution_count": 23,
   "metadata": {
    "collapsed": true
   },
   "outputs": [],
   "source": [
    "betaHat <- Variable(p)"
   ]
  },
  {
   "cell_type": "markdown",
   "metadata": {},
   "source": [
    "### Define the objective to be minimized"
   ]
  },
  {
   "cell_type": "code",
   "execution_count": 24,
   "metadata": {
    "collapsed": true
   },
   "outputs": [],
   "source": [
    "objective <- Minimize(sum((Y - X %*% betaHat)^2))"
   ]
  },
  {
   "cell_type": "markdown",
   "metadata": {
    "collapsed": true
   },
   "source": [
    "### Create an optimization problem to be solved"
   ]
  },
  {
   "cell_type": "code",
   "execution_count": 25,
   "metadata": {
    "collapsed": true
   },
   "outputs": [],
   "source": [
    "problem <- Problem(objective)"
   ]
  },
  {
   "cell_type": "markdown",
   "metadata": {},
   "source": [
    "### Solve it!"
   ]
  },
  {
   "cell_type": "code",
   "execution_count": 26,
   "metadata": {
    "collapsed": true
   },
   "outputs": [],
   "source": [
    "result <- solve(problem)"
   ]
  },
  {
   "cell_type": "markdown",
   "metadata": {},
   "source": [
    "### Extract the objective value and solution"
   ]
  },
  {
   "cell_type": "code",
   "execution_count": 27,
   "metadata": {},
   "outputs": [
    {
     "name": "stdout",
     "output_type": "stream",
     "text": [
      "Objective value: 97.847586\n",
      "Solution:\n",
      "           [,1]\n",
      " [1,]  1.080311\n",
      " [2,]  1.988296\n",
      " [3,]  2.875174\n",
      " [4,]  4.133395\n",
      " [5,]  5.091465\n",
      " [6,]  5.949045\n",
      " [7,]  7.076469\n",
      " [8,]  8.127227\n",
      " [9,]  8.960956\n",
      "[10,] 10.134885\n"
     ]
    }
   ],
   "source": [
    "cat(sprintf(\"Objective value: %f\\n\", result$value))\n",
    "cat(\"Solution:\\n\")\n",
    "print(result$getValue(betaHat))"
   ]
  },
  {
   "cell_type": "markdown",
   "metadata": {
    "collapsed": true
   },
   "source": [
    "We can indeed check that the the results are the same. "
   ]
  },
  {
   "cell_type": "code",
   "execution_count": 28,
   "metadata": {},
   "outputs": [
    {
     "data": {
      "text/html": [
       "<table>\n",
       "<tbody>\n",
       "\t<tr><th scope=row>X1</th><td> 1.080311</td><td> 1.080311</td></tr>\n",
       "\t<tr><th scope=row>X2</th><td> 1.988296</td><td> 1.988295</td></tr>\n",
       "\t<tr><th scope=row>X3</th><td> 2.875174</td><td> 2.875176</td></tr>\n",
       "\t<tr><th scope=row>X4</th><td> 4.133395</td><td> 4.133395</td></tr>\n",
       "\t<tr><th scope=row>X5</th><td> 5.091465</td><td> 5.091466</td></tr>\n",
       "\t<tr><th scope=row>X6</th><td> 5.949045</td><td> 5.949045</td></tr>\n",
       "\t<tr><th scope=row>X7</th><td> 7.076469</td><td> 7.076470</td></tr>\n",
       "\t<tr><th scope=row>X8</th><td> 8.127227</td><td> 8.127228</td></tr>\n",
       "\t<tr><th scope=row>X9</th><td> 8.960956</td><td> 8.960957</td></tr>\n",
       "\t<tr><th scope=row>X10</th><td>10.134885</td><td>10.134885</td></tr>\n",
       "</tbody>\n",
       "</table>\n"
      ],
      "text/latex": [
       "\\begin{tabular}{r|ll}\n",
       "\tX1 &  1.080311 &  1.080311\\\\\n",
       "\tX2 &  1.988296 &  1.988295\\\\\n",
       "\tX3 &  2.875174 &  2.875176\\\\\n",
       "\tX4 &  4.133395 &  4.133395\\\\\n",
       "\tX5 &  5.091465 &  5.091466\\\\\n",
       "\tX6 &  5.949045 &  5.949045\\\\\n",
       "\tX7 &  7.076469 &  7.076470\\\\\n",
       "\tX8 &  8.127227 &  8.127228\\\\\n",
       "\tX9 &  8.960956 &  8.960957\\\\\n",
       "\tX10 & 10.134885 & 10.134885\\\\\n",
       "\\end{tabular}\n"
      ],
      "text/markdown": [
       "\n",
       "| X1 |  1.080311 |  1.080311 | \n",
       "| X2 |  1.988296 |  1.988295 | \n",
       "| X3 |  2.875174 |  2.875176 | \n",
       "| X4 |  4.133395 |  4.133395 | \n",
       "| X5 |  5.091465 |  5.091466 | \n",
       "| X6 |  5.949045 |  5.949045 | \n",
       "| X7 |  7.076469 |  7.076470 | \n",
       "| X8 |  8.127227 |  8.127228 | \n",
       "| X9 |  8.960956 |  8.960957 | \n",
       "| X10 | 10.134885 | 10.134885 | \n",
       "\n",
       "\n"
      ],
      "text/plain": [
       "    [,1]      [,2]     \n",
       "X1   1.080311  1.080311\n",
       "X2   1.988296  1.988295\n",
       "X3   2.875174  2.875176\n",
       "X4   4.133395  4.133395\n",
       "X5   5.091465  5.091466\n",
       "X6   5.949045  5.949045\n",
       "X7   7.076469  7.076470\n",
       "X8   8.127227  8.127228\n",
       "X9   8.960956  8.960957\n",
       "X10 10.134885 10.134885"
      ]
     },
     "metadata": {},
     "output_type": "display_data"
    }
   ],
   "source": [
    "cbind(result$getValue(betaHat), coef(ls.model))"
   ]
  }
 ],
 "metadata": {
  "kernelspec": {
   "display_name": "R",
   "language": "R",
   "name": "ir"
  },
  "language_info": {
   "codemirror_mode": "r",
   "file_extension": ".r",
   "mimetype": "text/x-r-source",
   "name": "R",
   "pygments_lexer": "r",
   "version": "3.4.2"
  }
 },
 "nbformat": 4,
 "nbformat_minor": 2
}
